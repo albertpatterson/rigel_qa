{
 "cells": [
  {
   "cell_type": "code",
   "execution_count": null,
   "metadata": {},
   "outputs": [],
   "source": [
    "!git clone https://github.com/albertpatterson/colab-test.git tmp\n",
    "!mv tmp/* .\n",
    "!mv tmp/.gitignore .\n",
    "!rm -rf tmp\n",
    "!rm ./rigel_qa.ipynb"
   ]
  }
 ],
 "metadata": {
  "language_info": {
   "name": "python"
  }
 },
 "nbformat": 4,
 "nbformat_minor": 2
}
