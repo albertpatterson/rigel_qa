{
 "cells": [
  {
   "cell_type": "code",
   "execution_count": null,
   "metadata": {},
   "outputs": [],
   "source": [
    "# @title Colab setup\n",
    "!git clone https://github.com/albertpatterson/rigel_qa.git tmp\n",
    "!mv tmp/* .\n",
    "!mv tmp/.gitignore .\n",
    "!rm -rf tmp\n",
    "!rm ./rigel_qa.ipynb"
   ]
  },
  {
   "cell_type": "code",
   "execution_count": 3,
   "metadata": {},
   "outputs": [
    {
     "name": "stderr",
     "output_type": "stream",
     "text": [
      "huggingface/tokenizers: The current process just got forked, after parallelism has already been used. Disabling parallelism to avoid deadlocks...\n",
      "To disable this warning, you can either:\n",
      "\t- Avoid using `tokenizers` before the fork if possible\n",
      "\t- Explicitly set the environment variable TOKENIZERS_PARALLELISM=(true | false)\n",
      "huggingface/tokenizers: The current process just got forked, after parallelism has already been used. Disabling parallelism to avoid deadlocks...\n",
      "To disable this warning, you can either:\n",
      "\t- Avoid using `tokenizers` before the fork if possible\n",
      "\t- Explicitly set the environment variable TOKENIZERS_PARALLELISM=(true | false)\n"
     ]
    }
   ],
   "source": [
    "!pip install -qU requests bs4 sentence-transformers torch langchain-text-splitters chromadb accelerate bitsandbytes\n",
    "!pip install -qU flash-attn --no-build-isolation\n"
   ]
  },
  {
   "cell_type": "code",
   "execution_count": 6,
   "metadata": {},
   "outputs": [
    {
     "name": "stdout",
     "output_type": "stream",
     "text": [
      "https://blindcaveman.wordpress.com/category/journal/\n",
      "https://blindcaveman.wordpress.com/category/journal/page/2/\n",
      "https://blindcaveman.wordpress.com/category/journal/page/3/\n",
      "https://blindcaveman.wordpress.com/category/journal/page/4/\n",
      "https://blindcaveman.wordpress.com/category/journal/page/5/\n",
      "https://blindcaveman.wordpress.com/category/journal/page/6/\n",
      "https://blindcaveman.wordpress.com/category/journal/page/7/\n",
      "https://blindcaveman.wordpress.com/category/journal/page/8/\n",
      "https://blindcaveman.wordpress.com/category/journal/page/9/\n",
      "https://blindcaveman.wordpress.com/category/journal/page/10/\n",
      "https://blindcaveman.wordpress.com/category/journal/page/11/\n",
      "https://blindcaveman.wordpress.com/category/journal/page/12/\n",
      "https://blindcaveman.wordpress.com/category/journal/page/13/\n",
      "https://blindcaveman.wordpress.com/category/journal/page/14/\n",
      "https://blindcaveman.wordpress.com/category/journal/page/15/\n",
      "https://blindcaveman.wordpress.com/category/journal/page/16/\n",
      "break due to request error\n",
      "https://blindcaveman.wordpress.com/category/life/\n",
      "https://blindcaveman.wordpress.com/category/life/page/2/\n",
      "https://blindcaveman.wordpress.com/category/life/page/3/\n",
      "https://blindcaveman.wordpress.com/category/life/page/4/\n",
      "break due to redirect\n",
      "https://blindcaveman.wordpress.com/category/computing/\n",
      "https://blindcaveman.wordpress.com/category/computing/page/2/\n",
      "break due to request error\n",
      "https://blindcaveman.wordpress.com/category/innovation/\n",
      "https://blindcaveman.wordpress.com/category/innovation/page/2/\n",
      "break due to request error\n",
      "https://blindcaveman.wordpress.com/category/swimbikesleep/\n",
      "https://blindcaveman.wordpress.com/category/swimbikesleep/page/2/\n",
      "break due to redirect\n",
      "https://blindcaveman.wordpress.com/category/ham-radio/\n",
      "https://blindcaveman.wordpress.com/category/ham-radio/page/2/\n",
      "break due to request error\n",
      "https://blindcaveman.wordpress.com/category/123789724/\n",
      "https://blindcaveman.wordpress.com/category/123789724/page/2/\n",
      "break due to request error\n",
      "https://blindcaveman.wordpress.com/category/health/\n",
      "https://blindcaveman.wordpress.com/category/health/page/2/\n",
      "break due to request error\n",
      "https://blindcaveman.wordpress.com/category/word-study/\n",
      "https://blindcaveman.wordpress.com/category/word-study/page/2/\n",
      "break due to request error\n"
     ]
    }
   ],
   "source": [
    "from blog_scraping.collect import collect_all_blog_data\n",
    "collect_all_blog_data()"
   ]
  },
  {
   "cell_type": "code",
   "execution_count": 1,
   "metadata": {},
   "outputs": [
    {
     "name": "stderr",
     "output_type": "stream",
     "text": [
      "/home/albert/code/expr/ai/rigel/rigel_env/lib/python3.10/site-packages/sentence_transformers/cross_encoder/CrossEncoder.py:11: TqdmWarning: IProgress not found. Please update jupyter and ipywidgets. See https://ipywidgets.readthedocs.io/en/stable/user_install.html\n",
      "  from tqdm.autonotebook import tqdm, trange\n"
     ]
    },
    {
     "name": "stdout",
     "output_type": "stream",
     "text": [
      "init embedding\n"
     ]
    },
    {
     "name": "stderr",
     "output_type": "stream",
     "text": [
      "Token indices sequence length is longer than the specified maximum sequence length for this model (12655 > 8192). Running this sequence through the model will result in indexing errors\n"
     ]
    }
   ],
   "source": [
    "from vector_db.setup import setup_vector_db\n",
    "setup_vector_db()\n"
   ]
  },
  {
   "cell_type": "code",
   "execution_count": 1,
   "metadata": {},
   "outputs": [
    {
     "name": "stderr",
     "output_type": "stream",
     "text": [
      "/home/albert/code/expr/ai/rigel/rigel_env/lib/python3.10/site-packages/tqdm/auto.py:21: TqdmWarning: IProgress not found. Please update jupyter and ipywidgets. See https://ipywidgets.readthedocs.io/en/stable/user_install.html\n",
      "  from .autonotebook import tqdm as notebook_tqdm\n"
     ]
    },
    {
     "name": "stdout",
     "output_type": "stream",
     "text": [
      "init embedding\n"
     ]
    },
    {
     "name": "stderr",
     "output_type": "stream",
     "text": [
      "`low_cpu_mem_usage` was None, now set to True since model is quantized.\n",
      "Loading checkpoint shards: 100%|██████████| 2/2 [00:04<00:00,  2.00s/it]\n"
     ]
    },
    {
     "name": "stdout",
     "output_type": "stream",
     "text": [
      "init embedding\n",
      "Rigal's full name is Rigel G. Arcayan.\n",
      "[{'source': 'https://blindcaveman.wordpress.com/2017/04/23/mindmap-book-summary-livingandlovinglovingafterbetrayal/', 'distance': 1.0598990619182587}, {'source': 'https://blindcaveman.wordpress.com/2009/07/20/do-not-be-alarmed-day208/', 'distance': 1.1788110733032227}, {'source': 'https://blindcaveman.wordpress.com/2020/10/16/dream-my-dog-was-waiting-for-me-and-complaining/', 'distance': 1.2405550479888916}, {'source': 'https://blindcaveman.wordpress.com/2017/04/23/mindmap-gaf/', 'distance': 1.2814754843711853}, {'source': 'https://blindcaveman.wordpress.com/2017/04/23/mindmap-book-summarypersonality-types/', 'distance': 1.3139852285385132}]\n"
     ]
    }
   ],
   "source": [
    "from llm.llm import LLM\n",
    "LLM.clear()\n",
    "from rag.rag import answer_with_sources\n",
    "out, sources = answer_with_sources('What is Rigal\\'s full name?', 2000)\n",
    "\n",
    "print(out)\n",
    "print(sources)"
   ]
  },
  {
   "cell_type": "code",
   "execution_count": 2,
   "metadata": {},
   "outputs": [
    {
     "name": "stderr",
     "output_type": "stream",
     "text": [
      "`low_cpu_mem_usage` was None, now set to True since model is quantized.\n",
      "Loading checkpoint shards: 100%|██████████| 2/2 [00:03<00:00,  1.96s/it]\n"
     ]
    },
    {
     "name": "stdout",
     "output_type": "stream",
     "text": [
      "init embedding\n",
      "Rigel's home town is Merida.\n",
      "[{'source': 'https://blindcaveman.wordpress.com/2011/01/02/lighted-to-shine-day16503-sm-colon-via-ayala-fuente/', 'distance': 1.124909520149231}, {'source': 'https://blindcaveman.wordpress.com/2011/01/02/leadership-what-not-to-do-day16808-fine-tuning/', 'distance': 1.1699112057685852}, {'source': 'https://blindcaveman.wordpress.com/2009/07/27/more-afflictionmore-glory-day215/', 'distance': 1.2232171297073364}, {'source': 'https://blindcaveman.wordpress.com/2017/04/23/mindmap-gaf/', 'distance': 1.2409276366233826}, {'source': 'https://blindcaveman.wordpress.com/2010/03/28/the-promise-day460-rosedale-ride-2010/', 'distance': 1.2603928446769714}, {'source': 'https://blindcaveman.wordpress.com/2016/10/29/road-not-taken-but-you-did/', 'distance': 1.262540876865387}]\n"
     ]
    }
   ],
   "source": [
    "out, sources = answer_with_sources('What is Rigel\\'s home town?', 2000)\n",
    "\n",
    "print(out)\n",
    "print(sources)"
   ]
  },
  {
   "cell_type": "code",
   "execution_count": 3,
   "metadata": {},
   "outputs": [
    {
     "name": "stdout",
     "output_type": "stream",
     "text": [
      "init embedding\n"
     ]
    },
    {
     "name": "stderr",
     "output_type": "stream",
     "text": [
      "`low_cpu_mem_usage` was None, now set to True since model is quantized.\n",
      "Loading checkpoint shards: 100%|██████████| 4/4 [00:04<00:00,  1.04s/it]\n"
     ]
    },
    {
     "name": "stdout",
     "output_type": "stream",
     "text": [
      "init embedding\n",
      "Based on the blog posts, Rigel's hometown is **Merida**. \n",
      "\n",
      "\n",
      "He mentions:\n",
      "\n",
      "*  \"I’m still trying to get used to the lifestyle here in my hometown.\"\n",
      "* \"I lived here since childhood and I know that I loved this place.\" \n",
      "* \"I chose to stay here in Merida for a few reasons...\" \n",
      "\n",
      "\n",
      "Let me know if you have any other questions about Rigel!\n",
      "[{'source': 'https://blindcaveman.wordpress.com/2011/01/02/leadership-what-not-to-do-day16808-fine-tuning/', 'distance': 1.0452470779418945}, {'source': 'https://blindcaveman.wordpress.com/2011/01/02/lighted-to-shine-day16503-sm-colon-via-ayala-fuente/', 'distance': 1.077319324016571}, {'source': 'https://blindcaveman.wordpress.com/2010/03/28/the-promise-day460-rosedale-ride-2010/', 'distance': 1.1762757301330566}, {'source': 'https://blindcaveman.wordpress.com/2009/07/27/more-afflictionmore-glory-day215/', 'distance': 1.1909533143043518}, {'source': 'https://blindcaveman.wordpress.com/2016/10/29/road-not-taken-but-you-did/', 'distance': 1.1946150064468384}]\n"
     ]
    }
   ],
   "source": [
    "out, sources = answer_with_sources('What is Rigel\\'s home town?', 2000, 'text_generation_gemma_4_bit')\n",
    "\n",
    "print(out)\n",
    "print(sources)"
   ]
  },
  {
   "cell_type": "code",
   "execution_count": 7,
   "metadata": {},
   "outputs": [
    {
     "name": "stderr",
     "output_type": "stream",
     "text": [
      "`low_cpu_mem_usage` was None, now set to True since model is quantized.\n"
     ]
    },
    {
     "name": "stdout",
     "output_type": "stream",
     "text": [
      "init text generation\n"
     ]
    },
    {
     "name": "stderr",
     "output_type": "stream",
     "text": [
      "Loading checkpoint shards: 100%|██████████| 4/4 [00:04<00:00,  1.02s/it]\n"
     ]
    },
    {
     "name": "stdout",
     "output_type": "stream",
     "text": [
      "init embedding\n",
      "Based on the blog posts, Rigel worked at a company where he was involved in projects like the \"LEAN Pull System-LIFE\" and had to deal with annoying equipment problems.  \n",
      "\n",
      "He also mentions working on a project involving Windows Media Services and remote desktop access. \n",
      "\n",
      "\n",
      "Let me know if you have any other questions about Rigal!\n",
      "[{'source': 'https://blindcaveman.wordpress.com/2009/11/09/faithknowingexperience-day320/', 'distance': 0.9769589900970459}, {'source': 'https://blindcaveman.wordpress.com/2010/01/31/place-to-hide-day404-project-wireless-automated-door-model/', 'distance': 1.1071231663227081}, {'source': 'https://blindcaveman.wordpress.com/2010/03/28/the-promise-day460-rosedale-ride-2010/', 'distance': 1.1573243141174316}]\n"
     ]
    }
   ],
   "source": [
    "out, sources = answer_with_sources('Where did Rigel work?', 2000)\n",
    "\n",
    "print(out)\n",
    "print(sources)"
   ]
  },
  {
   "cell_type": "code",
   "execution_count": 8,
   "metadata": {},
   "outputs": [
    {
     "name": "stderr",
     "output_type": "stream",
     "text": [
      "`low_cpu_mem_usage` was None, now set to True since model is quantized.\n"
     ]
    },
    {
     "name": "stdout",
     "output_type": "stream",
     "text": [
      "init text generation\n"
     ]
    },
    {
     "name": "stderr",
     "output_type": "stream",
     "text": [
      "Loading checkpoint shards: 100%|██████████| 4/4 [00:04<00:00,  1.03s/it]\n"
     ]
    },
    {
     "name": "stdout",
     "output_type": "stream",
     "text": [
      "init embedding\n",
      "Based on the provided blog posts, Rigel expresses several beliefs about God:\n",
      "\n",
      "* **God is omnipresent:**  He quotes Psalm 139:8, stating \"If I ascend up into heaven, You are there; if I make my bed in Sheol (the place of the dead), behold, You are there.\" This shows Rigel believes God is present everywhere.\n",
      "* **God is forgiving and merciful:** Rigel quotes Micah 7:18, emphasizing God's forgiveness and delight in mercy. He also mentions God blotting out transgressions and not remembering sins (Isaiah 43:25).\n",
      "* **God is powerful and mighty:** Rigel refers to God as \"A Mighty God\" and quotes Psalm 65:6, highlighting God's strength in setting the mountains fast.\n",
      "* **God is a creator:**  He quotes Exodus 20:11, acknowledging God's creation of heaven and earth and the sea.\n",
      "* **God is a guide and counselor:** Rigel lists \"God is Guiding Light\" and \"God is a Counselor\" as attributes of God.\n",
      "* **God is a refuge:** He mentions God as a refuge, a place\n",
      "[{'source': 'https://blindcaveman.wordpress.com/2012/02/04/presence-of-god-day582/', 'distance': 0.7268465608358383}, {'source': 'https://blindcaveman.wordpress.com/2012/02/24/always-there-day602/', 'distance': 0.7618774771690369}]\n"
     ]
    }
   ],
   "source": [
    "out, sources = answer_with_sources('Where did Rigel say about God?', 2000)\n",
    "\n",
    "print(out)\n",
    "print(sources)"
   ]
  },
  {
   "cell_type": "code",
   "execution_count": null,
   "metadata": {},
   "outputs": [],
   "source": []
  }
 ],
 "metadata": {
  "kernelspec": {
   "display_name": "rigel_env",
   "language": "python",
   "name": "python3"
  },
  "language_info": {
   "codemirror_mode": {
    "name": "ipython",
    "version": 3
   },
   "file_extension": ".py",
   "mimetype": "text/x-python",
   "name": "python",
   "nbconvert_exporter": "python",
   "pygments_lexer": "ipython3",
   "version": "3.10.12"
  }
 },
 "nbformat": 4,
 "nbformat_minor": 2
}
