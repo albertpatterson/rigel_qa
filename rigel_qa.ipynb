{
 "cells": [
  {
   "cell_type": "code",
   "execution_count": null,
   "metadata": {},
   "outputs": [],
   "source": [
    "# @title Colab setup\n",
    "!git clone https://github.com/albertpatterson/rigel_qa.git tmp\n",
    "!mv tmp/* .\n",
    "!mv tmp/.gitignore .\n",
    "!rm -rf tmp\n",
    "!rm ./rigel_qa.ipynb"
   ]
  },
  {
   "cell_type": "code",
   "execution_count": 3,
   "metadata": {},
   "outputs": [
    {
     "name": "stdout",
     "output_type": "stream",
     "text": [
      "Collecting requests\n",
      "  Using cached requests-2.32.3-py3-none-any.whl (64 kB)\n",
      "Collecting bs4\n",
      "  Using cached bs4-0.0.2-py2.py3-none-any.whl (1.2 kB)\n",
      "Collecting certifi>=2017.4.17\n",
      "  Downloading certifi-2024.7.4-py3-none-any.whl (162 kB)\n",
      "\u001b[2K     \u001b[90m━━━━━━━━━━━━━━━━━━━━━━━━━━━━━━━━━━━━━━━\u001b[0m \u001b[32m163.0/163.0 KB\u001b[0m \u001b[31m1.7 MB/s\u001b[0m eta \u001b[36m0:00:00\u001b[0ma \u001b[36m0:00:01\u001b[0m\n",
      "\u001b[?25hCollecting urllib3<3,>=1.21.1\n",
      "  Using cached urllib3-2.2.2-py3-none-any.whl (121 kB)\n",
      "Collecting idna<4,>=2.5\n",
      "  Downloading idna-3.8-py3-none-any.whl (66 kB)\n",
      "\u001b[2K     \u001b[90m━━━━━━━━━━━━━━━━━━━━━━━━━━━━━━━━━━━━━━━━\u001b[0m \u001b[32m66.9/66.9 KB\u001b[0m \u001b[31m5.3 MB/s\u001b[0m eta \u001b[36m0:00:00\u001b[0m\n",
      "\u001b[?25hCollecting charset-normalizer<4,>=2\n",
      "  Using cached charset_normalizer-3.3.2-cp310-cp310-manylinux_2_17_x86_64.manylinux2014_x86_64.whl (142 kB)\n",
      "Collecting beautifulsoup4\n",
      "  Using cached beautifulsoup4-4.12.3-py3-none-any.whl (147 kB)\n",
      "Collecting soupsieve>1.2\n",
      "  Downloading soupsieve-2.6-py3-none-any.whl (36 kB)\n",
      "Installing collected packages: urllib3, soupsieve, idna, charset-normalizer, certifi, requests, beautifulsoup4, bs4\n",
      "Successfully installed beautifulsoup4-4.12.3 bs4-0.0.2 certifi-2024.7.4 charset-normalizer-3.3.2 idna-3.8 requests-2.32.3 soupsieve-2.6 urllib3-2.2.2\n"
     ]
    }
   ],
   "source": [
    "!pip install requests bs4"
   ]
  },
  {
   "cell_type": "code",
   "execution_count": 1,
   "metadata": {},
   "outputs": [
    {
     "name": "stdout",
     "output_type": "stream",
     "text": [
      "https://blindcaveman.wordpress.com/category/journal/\n",
      "https://blindcaveman.wordpress.com/category/journal/page/2/\n",
      "https://blindcaveman.wordpress.com/category/journal/page/3/\n",
      "https://blindcaveman.wordpress.com/category/journal/page/4/\n",
      "https://blindcaveman.wordpress.com/category/journal/page/5/\n",
      "https://blindcaveman.wordpress.com/category/journal/page/6/\n",
      "https://blindcaveman.wordpress.com/category/journal/page/7/\n",
      "https://blindcaveman.wordpress.com/category/journal/page/8/\n",
      "https://blindcaveman.wordpress.com/category/journal/page/9/\n",
      "https://blindcaveman.wordpress.com/category/journal/page/10/\n",
      "https://blindcaveman.wordpress.com/category/journal/page/11/\n",
      "https://blindcaveman.wordpress.com/category/journal/page/12/\n",
      "https://blindcaveman.wordpress.com/category/journal/page/13/\n",
      "https://blindcaveman.wordpress.com/category/journal/page/14/\n",
      "https://blindcaveman.wordpress.com/category/journal/page/15/\n",
      "https://blindcaveman.wordpress.com/category/journal/page/16/\n",
      "break due to request error\n",
      "https://blindcaveman.wordpress.com/category/life/\n",
      "https://blindcaveman.wordpress.com/category/life/page/2/\n",
      "https://blindcaveman.wordpress.com/category/life/page/3/\n",
      "https://blindcaveman.wordpress.com/category/life/page/4/\n",
      "break due to redirect\n",
      "https://blindcaveman.wordpress.com/category/computing/\n",
      "https://blindcaveman.wordpress.com/category/computing/page/2/\n",
      "break due to request error\n",
      "https://blindcaveman.wordpress.com/category/innovation/\n",
      "https://blindcaveman.wordpress.com/category/innovation/page/2/\n",
      "break due to request error\n",
      "https://blindcaveman.wordpress.com/category/swimbikesleep/\n",
      "https://blindcaveman.wordpress.com/category/swimbikesleep/page/2/\n",
      "break due to redirect\n",
      "https://blindcaveman.wordpress.com/category/ham-radio/\n",
      "https://blindcaveman.wordpress.com/category/ham-radio/page/2/\n",
      "break due to request error\n",
      "https://blindcaveman.wordpress.com/category/123789724/\n",
      "https://blindcaveman.wordpress.com/category/123789724/page/2/\n",
      "break due to request error\n",
      "https://blindcaveman.wordpress.com/category/health/\n",
      "https://blindcaveman.wordpress.com/category/health/page/2/\n",
      "break due to request error\n",
      "https://blindcaveman.wordpress.com/category/word-study/\n",
      "https://blindcaveman.wordpress.com/category/word-study/page/2/\n",
      "break due to request error\n"
     ]
    }
   ],
   "source": [
    "from blog_scraping.collect import collect_all_blog_data\n",
    "\n",
    "collect_all_blog_data()"
   ]
  },
  {
   "cell_type": "code",
   "execution_count": null,
   "metadata": {},
   "outputs": [],
   "source": []
  }
 ],
 "metadata": {
  "kernelspec": {
   "display_name": "rigel_env",
   "language": "python",
   "name": "python3"
  },
  "language_info": {
   "codemirror_mode": {
    "name": "ipython",
    "version": 3
   },
   "file_extension": ".py",
   "mimetype": "text/x-python",
   "name": "python",
   "nbconvert_exporter": "python",
   "pygments_lexer": "ipython3",
   "version": "3.10.12"
  }
 },
 "nbformat": 4,
 "nbformat_minor": 2
}
